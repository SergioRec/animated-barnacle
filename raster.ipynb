{
 "cells": [
  {
   "cell_type": "markdown",
   "metadata": {},
   "source": [
    "## Raster data\n",
    "\n",
    "Example notebook to show an introduction to raster data.\n",
    "\n",
    "### Data Sources\n",
    "\n",
    "Example raster files have been downloaded from the [Global Human Settlement\n",
    "Layer, European Commision.](https://ghsl.jrc.ec.europa.eu/download.php)\n",
    "\n",
    "In this example we are using the GHS-POP 2020 dataset, 1 km Mollweide\n",
    "projection. The dataset contains population values in a 1km x 1km grid."
   ]
  },
  {
   "cell_type": "code",
   "execution_count": null,
   "metadata": {},
   "outputs": [],
   "source": [
    "# imports\n",
    "import os\n",
    "\n",
    "import geopandas as gpd\n",
    "import matplotlib.pyplot as plt\n",
    "import numpy as np\n",
    "import rasterio as rio\n",
    "import xarray as xr\n",
    "from geocube.vector import vectorize\n",
    "from pyprojroot import here\n",
    "from rasterio.mask import raster_geometry_mask\n",
    "from shapely import box"
   ]
  },
  {
   "cell_type": "markdown",
   "metadata": {},
   "source": [
    "A raster file consists of a matrix of cells. Each cell contains a value\n",
    "representing some information. A file may contain several layers, each\n",
    "representing different information.\n",
    "\n",
    "A Python package useful to process raster files is called `rasterio`."
   ]
  },
  {
   "cell_type": "code",
   "execution_count": null,
   "metadata": {},
   "outputs": [],
   "source": [
    "# read raster file\n",
    "path = here(\"data\")\n",
    "dataset = rio.open(\n",
    "    os.path.join(path, \"GHS_POP_E2020_GLOBE_R2023A_54009_1000_V1_0_R3_C18.tif\")\n",
    ")"
   ]
  },
  {
   "cell_type": "markdown",
   "metadata": {},
   "source": [
    "When reading a raster file, it is possible to access some of its attributes,\n",
    "such as CRS, number of layers, size and boundaries.\n",
    "<br>\n",
    "<br>\n",
    "An important attribute is the affine transformation matrix.\n",
    "A simple transform could have the following format:\n",
    "\\begin{bmatrix} a \\ b \\ c \\\\\\ d \\ e \\ f \\end{bmatrix}\n",
    "<br>\n",
    "<br>\n",
    "This matrix serves to map every pixel in its relative position in the matrix\n",
    "(row, col) to spatial positions (x, y or lat, lon). `c` and `f` are the\n",
    "coordinates of the top left corner of the dataset. `a` is the value you'd\n",
    "need to add to `c` to move it one step to the right. `e` is the value you'd\n",
    "need to add to `f` to move it one step down. Using this, it is possible\n",
    "to trim, reproject or resample a raster. More details can be found in\n",
    "[this link](https://pygis.io/docs/d_affine.html).\n",
    "<br>\n",
    "<br>\n",
    "In the example below, CRS is `ESRI: 54009`, so the numbers represent\n",
    "metres. The dataset has one layer, with width 1000 and height 1000.\n",
    "The transform indicates that every cell moves 1000 m to the right and\n",
    "1000 m down, so we can conclude that every cell is 1000x1000 m.\n"
   ]
  },
  {
   "cell_type": "code",
   "execution_count": null,
   "metadata": {},
   "outputs": [],
   "source": [
    "# properties\n",
    "print(f\"Number of layers: {dataset.count}\")\n",
    "print(f\"Number of columns: {dataset.width}\")\n",
    "print(f\"Number of rows: {dataset.height}\")\n",
    "\n",
    "# geometry information\n",
    "print(f\"CRS: {dataset.crs}\")\n",
    "print(f\"Affine transform:\\n{dataset.transform}\")\n",
    "print(f\"Boundaries: {dataset.bounds}\")"
   ]
  },
  {
   "cell_type": "markdown",
   "metadata": {},
   "source": [
    "To be able to plot the contents of the raster, we first need to read a specific\n",
    "layer. In our case, we only have one. We use the `.read` method, indicating\n",
    "the number of the layer we want to read.\n",
    "<br>\n",
    "<br>\n",
    "Inspecting the band after reading, we can see it's a simple numpy array.\n",
    "This data is supposed to contain population values on each cell, but you\n",
    "might notice some values are negative. A raster layer can only contain data\n",
    "of a single type, so if the data contained is numerical null values need to\n",
    "be represented as numbers too. In this case, the number that indicates a\n",
    "null value is `-200`. You can examine this value by accessing the raster\n",
    "attribute `nodata`.\n",
    "<br>\n",
    "<br>\n",
    "If we want to plot its contents, we can use matplotlib `imshow` function.\n"
   ]
  },
  {
   "cell_type": "code",
   "execution_count": null,
   "metadata": {},
   "outputs": [],
   "source": [
    "band = dataset.read(1)\n",
    "print(band)\n",
    "print(type(band))\n",
    "\n",
    "plt.imshow(band)"
   ]
  },
  {
   "cell_type": "markdown",
   "metadata": {},
   "source": [
    "It is also possible to read a specific chunk of a band (e.g. whatever falls\n",
    "within a specific bounding box).\n",
    "<br>\n",
    "<br>\n",
    "To do this, we can use the method `raster_geometry_mask`, which will return\n",
    "a mask array with values False in the positions that fall within the limits,\n",
    "or True otherwise. If giving the argument `crop=True`, it will return only\n",
    "the cells within the box, and a `Window` object with the col and row limits\n",
    "of the crop provided. We can use this window as an argument when reading a\n",
    "layer.\n"
   ]
  },
  {
   "cell_type": "code",
   "execution_count": null,
   "metadata": {},
   "outputs": [],
   "source": [
    "# bbox around the Bristol channel\n",
    "bbox = [-3.6955, 51.1869, -2.3002, 51.9855]\n",
    "bbox_gdf = gpd.GeoDataFrame(geometry=[box(*bbox)], crs=\"EPSG: 4326\").to_crs(\n",
    "    \"ESRI: 54009\"\n",
    ")\n",
    "\n",
    "_, aff, window = raster_geometry_mask(\n",
    "    dataset, bbox_gdf.geometry.values, crop=True, all_touched=True\n",
    ")\n",
    "\n",
    "band_cropped = dataset.read(1, window=window)\n",
    "plt.imshow(band_cropped)"
   ]
  },
  {
   "cell_type": "markdown",
   "metadata": {},
   "source": [
    "Other transformations or infomation extraction can be done directly into\n",
    "the data arrays. After that, the modified data can be resaved as a new raster\n",
    "file.\n",
    "<br>\n",
    "<br>\n",
    "To save the new raster, you will need to include some profile information, like\n",
    "the affine transform, what value to use for nulls, etc. It is possible to\n",
    "reuse the profile from the original raster, changing only the modified\n",
    "parameters.\n"
   ]
  },
  {
   "cell_type": "code",
   "execution_count": null,
   "metadata": {},
   "outputs": [],
   "source": [
    "# we can select all cells with higher than 5,000  population\n",
    "mask = band_cropped > 5000\n",
    "filtered_band = np.where(mask, band_cropped, -200)\n",
    "\n",
    "# image shows only kept cells\n",
    "plt.imshow(filtered_band)\n",
    "\n",
    "# get original profile\n",
    "profile = dataset.profile\n",
    "print(profile)\n",
    "\n",
    "# modified relevant parts, in this case the affine transform and the size\n",
    "# as we have cropped the raster\n",
    "profile.update(\n",
    "    transform=aff, height=filtered_band.shape[0], width=filtered_band.shape[1]\n",
    ")\n",
    "\n",
    "# now we can save our processed raster file\n",
    "with rio.open(here(\"data/modified_raster.tif\"), \"w\", **profile) as w:\n",
    "    w.write(filtered_band, 1)"
   ]
  },
  {
   "cell_type": "code",
   "execution_count": null,
   "metadata": {},
   "outputs": [],
   "source": [
    "# and you can read it again to check that it saved correctly\n",
    "with rio.open(here(\"data/modified_raster.tif\")) as r:\n",
    "    d = r.read(1)\n",
    "    print(r.profile)\n",
    "    plt.imshow(d)"
   ]
  },
  {
   "cell_type": "markdown",
   "metadata": {},
   "source": [
    "It is possible to convert a raster to vector format (i.e. as used by\n",
    "GeoPandas). This may be useful to plot or to combine with other geographical\n",
    "information, but you will lose some of the functionality of the raster format\n",
    "so it's worth doing it once the raster has been processed completely.\n",
    "<br>\n",
    "<br>\n",
    "To do this, there are two further dependencies: `geocube` to vectorize, and\n",
    "`xarray`, to convert the raster to `xarray` format, which is necessary for\n",
    "`geocube`.\n"
   ]
  },
  {
   "cell_type": "code",
   "execution_count": null,
   "metadata": {},
   "outputs": [],
   "source": [
    "# convert to xarray\n",
    "x_array = (\n",
    "    xr.DataArray(filtered_band)\n",
    "    .astype(\"int32\")\n",
    "    .rio.write_nodata(-200)\n",
    "    .rio.write_transform(aff)\n",
    "    .rio.set_crs(\"ESRI: 54009\", inplace=True)\n",
    ")\n",
    "\n",
    "# print xarray to see format\n",
    "print(x_array)\n",
    "\n",
    "# vectorise!\n",
    "gdf = vectorize(x_array)\n",
    "\n",
    "# change column names and explore\n",
    "gdf.columns = [\"label\", \"geometry\"]\n",
    "gdf.explore()"
   ]
  },
  {
   "cell_type": "code",
   "execution_count": null,
   "metadata": {},
   "outputs": [],
   "source": []
  }
 ],
 "metadata": {
  "language_info": {
   "codemirror_mode": {
    "name": "ipython",
    "version": 3
   },
   "file_extension": ".py",
   "mimetype": "text/x-python",
   "name": "python",
   "nbconvert_exporter": "python",
   "pygments_lexer": "ipython3",
   "version": "3.11.7"
  }
 },
 "nbformat": 4,
 "nbformat_minor": 2
}
